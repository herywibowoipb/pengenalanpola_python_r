{
 "cells": [
  {
   "cell_type": "code",
   "execution_count": 1,
   "id": "streaming-credit",
   "metadata": {},
   "outputs": [
    {
     "data": {
      "text/plain": [
       "0    Setosa\n",
       "1    Setosa\n",
       "2    Setosa\n",
       "3    Setosa\n",
       "4    Setosa\n",
       "Name: variety, dtype: object"
      ]
     },
     "execution_count": 1,
     "metadata": {},
     "output_type": "execute_result"
    }
   ],
   "source": [
    "import pandas as pd\n",
    "import numpy as np\n",
    "iris = pd.read_csv(\"iris.csv\")\n",
    "iris.head()\n",
    "# variabel bebas\n",
    "x = iris.drop([\"variety\"], axis = 1)\n",
    "x.head()\n",
    "#variabel tidak bebas\n",
    "y = iris[\"variety\"]\n",
    "y.head()"
   ]
  },
  {
   "cell_type": "code",
   "execution_count": 9,
   "id": "breeding-seventh",
   "metadata": {},
   "outputs": [],
   "source": [
    "# classification \n",
    "# please install scikit library \n",
    "# pip install -U scikit-learn \n",
    "\n",
    "# separate the dataset \n",
    "from sklearn.model_selection import train_test_split \n",
    "x_train, x_test, y_train, y_test = train_test_split(x, y, test_size = 0.2, random_state = 5) \n",
    "\n",
    "#import from library \n",
    "from sklearn.naive_bayes import GaussianNB \n",
    "# Call Gaussian Naive Bayes \n",
    "iris_model = GaussianNB()"
   ]
  },
  {
   "cell_type": "code",
   "execution_count": 10,
   "id": "former-prevention",
   "metadata": {},
   "outputs": [],
   "source": [
    "# Insert the training dataset to Naive Bayes function\n",
    "NB_train = iris_model.fit(x_train, y_train)"
   ]
  },
  {
   "cell_type": "code",
   "execution_count": 11,
   "id": "conservative-celtic",
   "metadata": {},
   "outputs": [
    {
     "data": {
      "text/plain": [
       "array(['Versicolor', 'Virginica', 'Virginica', 'Setosa', 'Virginica',\n",
       "       'Versicolor', 'Setosa', 'Versicolor', 'Setosa', 'Versicolor',\n",
       "       'Versicolor', 'Virginica', 'Virginica', 'Virginica', 'Setosa',\n",
       "       'Setosa', 'Virginica', 'Virginica', 'Setosa', 'Setosa',\n",
       "       'Versicolor', 'Virginica', 'Setosa', 'Versicolor', 'Versicolor',\n",
       "       'Virginica', 'Versicolor', 'Versicolor', 'Versicolor', 'Virginica'],\n",
       "      dtype=object)"
      ]
     },
     "execution_count": 11,
     "metadata": {},
     "output_type": "execute_result"
    }
   ],
   "source": [
    "# Next step: Prediction the x_test to the model built and save to the y_pred variable\n",
    "# show the result of prediction\n",
    "y_pred = NB_train.predict(x_test)\n",
    "np.array(y_pred)\n",
    "# show the y_test based on separation dataset\n",
    "np.array(y_test)"
   ]
  },
  {
   "cell_type": "code",
   "execution_count": 12,
   "id": "ready-physics",
   "metadata": {},
   "outputs": [
    {
     "data": {
      "text/plain": [
       "array([[5.30085641e-063, 9.99981862e-001, 1.81383617e-005],\n",
       "       [2.33789935e-148, 6.30886847e-001, 3.69113153e-001],\n",
       "       [1.96263359e-196, 4.91363272e-007, 9.99999509e-001],\n",
       "       [1.00000000e+000, 1.14656751e-018, 4.49822440e-027],\n",
       "       [5.25023564e-268, 1.22602746e-012, 1.00000000e+000],\n",
       "       [3.69701688e-035, 9.99999868e-001, 1.32443809e-007],\n",
       "       [1.00000000e+000, 2.51013111e-017, 5.52818684e-026],\n",
       "       [2.28418536e-131, 1.07634152e-001, 8.92365848e-001],\n",
       "       [1.00000000e+000, 5.44261227e-016, 1.20097067e-024],\n",
       "       [8.96209989e-099, 9.91260655e-001, 8.73934453e-003],\n",
       "       [3.07281738e-099, 9.89683769e-001, 1.03162310e-002],\n",
       "       [1.46506375e-128, 7.68601918e-001, 2.31398082e-001],\n",
       "       [1.77488452e-219, 1.47076918e-007, 9.99999853e-001],\n",
       "       [2.41148452e-222, 1.76713485e-006, 9.99998233e-001],\n",
       "       [1.00000000e+000, 3.93692194e-014, 2.48181020e-022],\n",
       "       [1.00000000e+000, 5.59124686e-011, 3.78482609e-019],\n",
       "       [2.39814803e-138, 1.07467031e-001, 8.92532969e-001],\n",
       "       [6.77425372e-218, 1.10894386e-006, 9.99998891e-001],\n",
       "       [1.00000000e+000, 1.60329612e-015, 1.97866676e-023],\n",
       "       [1.00000000e+000, 2.21768247e-018, 5.23113060e-027],\n",
       "       [7.81027411e-072, 9.99854360e-001, 1.45639852e-004],\n",
       "       [1.84145581e-198, 7.60711220e-006, 9.99992393e-001],\n",
       "       [1.00000000e+000, 4.78405317e-018, 5.44647058e-026],\n",
       "       [1.00076675e-119, 9.46810579e-001, 5.31894215e-002],\n",
       "       [1.74217049e-073, 9.99826922e-001, 1.73077694e-004],\n",
       "       [2.93596473e-203, 1.39231762e-007, 9.99999861e-001],\n",
       "       [9.79471405e-084, 9.99040188e-001, 9.59812045e-004],\n",
       "       [1.19325218e-077, 9.99775997e-001, 2.24002949e-004],\n",
       "       [5.43425264e-104, 9.89719162e-001, 1.02808383e-002],\n",
       "       [4.62201633e-207, 9.85874738e-007, 9.99999014e-001]])"
      ]
     },
     "execution_count": 12,
     "metadata": {},
     "output_type": "execute_result"
    }
   ],
   "source": [
    "# this value will show all probability for each predicted class\n",
    "NB_train.predict_proba(x_test)"
   ]
  },
  {
   "cell_type": "code",
   "execution_count": 13,
   "id": "embedded-enforcement",
   "metadata": {},
   "outputs": [
    {
     "data": {
      "text/plain": [
       "array([[ 8,  0,  0],\n",
       "       [ 0, 10,  1],\n",
       "       [ 0,  2,  9]], dtype=int64)"
      ]
     },
     "execution_count": 13,
     "metadata": {},
     "output_type": "execute_result"
    }
   ],
   "source": [
    "# show the confusion matrix based on the prediction result\n",
    "from sklearn.metrics import confusion_matrix\n",
    "confusion_matrix(y_test,y_pred)"
   ]
  },
  {
   "cell_type": "code",
   "execution_count": 14,
   "id": "integrated-peninsula",
   "metadata": {},
   "outputs": [
    {
     "name": "stdout",
     "output_type": "stream",
     "text": [
      "              precision    recall  f1-score   support\n",
      "\n",
      "      Setosa       1.00      1.00      1.00         8\n",
      "  Versicolor       0.83      0.91      0.87        11\n",
      "   Virginica       0.90      0.82      0.86        11\n",
      "\n",
      "    accuracy                           0.90        30\n",
      "   macro avg       0.91      0.91      0.91        30\n",
      "weighted avg       0.90      0.90      0.90        30\n",
      "\n"
     ]
    }
   ],
   "source": [
    "#evaluate performance from the confusion matrix\n",
    "from sklearn.metrics import classification_report\n",
    "print(classification_report(y_test, y_pred))"
   ]
  },
  {
   "cell_type": "code",
   "execution_count": null,
   "id": "comfortable-cookbook",
   "metadata": {},
   "outputs": [],
   "source": []
  }
 ],
 "metadata": {
  "kernelspec": {
   "display_name": "Python 3",
   "language": "python",
   "name": "python3"
  },
  "language_info": {
   "codemirror_mode": {
    "name": "ipython",
    "version": 3
   },
   "file_extension": ".py",
   "mimetype": "text/x-python",
   "name": "python",
   "nbconvert_exporter": "python",
   "pygments_lexer": "ipython3",
   "version": "3.9.2"
  }
 },
 "nbformat": 4,
 "nbformat_minor": 5
}
