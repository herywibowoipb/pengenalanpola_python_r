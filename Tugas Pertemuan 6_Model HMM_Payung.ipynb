{
 "cells": [
  {
   "cell_type": "code",
   "execution_count": 11,
   "id": "anticipated-security",
   "metadata": {},
   "outputs": [],
   "source": [
    "# Definisi Matrik Transisi (states) \n",
    "states = ('Panas', 'Hujan', 'Berawan') \n",
    "\n",
    "# definisi Matriks Observasi / Matrik emmisi \n",
    "observations = ('DP', 'TP') \n",
    "\n",
    "# definisi Matriks Priority \n",
    "start_probability = {'Panas': 0.4, 'Hujan': 0.3, 'Berawan': 0.3} \n",
    "\n",
    "transition_probability = { \n",
    "'Panas' : {'Panas': 0.8, 'Hujan': 0.05, 'Berawan': 0.15}, \n",
    "'Hujan' : {'Panas': 0.2, 'Hujan': 0.6, 'Berawan': 0.2},\n",
    "'Berawan' : {'Panas': 0.2, 'Hujan': 0.3, 'Berawan': 0.5}, \n",
    "} \n",
    "\n",
    "emission_probability = { \n",
    "'Panas' : {'DP': 0.1, 'TP': 0.9},\n",
    "'Hujan' : {'DP': 0.8, 'TP': 0.2},\n",
    "'Berawan' : {'DP': 0.3, 'TP': 0.7}, \n",
    "}"
   ]
  },
  {
   "cell_type": "code",
   "execution_count": 12,
   "id": "public-immunology",
   "metadata": {},
   "outputs": [],
   "source": [
    "# Library untuk HMM \n",
    "# Cara install pip install hmmlearn==0.2.2 \n",
    "\n",
    "from hmmlearn import hmm \n",
    "import numpy as np \n",
    "model = hmm.MultinomialHMM(n_components=3) \n",
    "model.startprob_ = np.array([0.4, 0.3,0.3]) \n",
    "model.transmat_ = np.array([[0.8, 0.05,0.15], \n",
    "                                                [0.2, 0.6,0.2],\n",
    "                                                [0.2, 0.3,0.5]]) \n",
    "model.emissionprob_ = np.array([[0.1, 0.9],\n",
    "                                                         [0.8, 0.2], \n",
    "                                                        [0.3, 0.7]])"
   ]
  },
  {
   "cell_type": "code",
   "execution_count": 13,
   "id": "friendly-safety",
   "metadata": {},
   "outputs": [
    {
     "data": {
      "text/plain": [
       "0.4509"
      ]
     },
     "execution_count": 13,
     "metadata": {},
     "output_type": "execute_result"
    }
   ],
   "source": [
    "#nilai probability {'TP','TP'}\n",
    "\n",
    "import math \n",
    "math.exp(model.score(np.array([[1,1]])))"
   ]
  },
  {
   "cell_type": "code",
   "execution_count": 15,
   "id": "incomplete-mexico",
   "metadata": {},
   "outputs": [
    {
     "name": "stdout",
     "output_type": "stream",
     "text": [
      "0.004064256000000002\n",
      "[2 2 1 1 1]\n"
     ]
    }
   ],
   "source": [
    "#State optimal untuk {TP,TP,DP,DP,DP}\n",
    "\n",
    "import math\n",
    "logprob, seq = model.decode(np.array([[1,1,0,0,0]]).transpose())\n",
    "print(math.exp(logprob))\n",
    "print(seq)"
   ]
  },
  {
   "cell_type": "code",
   "execution_count": null,
   "id": "regulated-torture",
   "metadata": {},
   "outputs": [],
   "source": []
  }
 ],
 "metadata": {
  "kernelspec": {
   "display_name": "Python 3",
   "language": "python",
   "name": "python3"
  },
  "language_info": {
   "codemirror_mode": {
    "name": "ipython",
    "version": 3
   },
   "file_extension": ".py",
   "mimetype": "text/x-python",
   "name": "python",
   "nbconvert_exporter": "python",
   "pygments_lexer": "ipython3",
   "version": "3.9.2"
  }
 },
 "nbformat": 4,
 "nbformat_minor": 5
}
