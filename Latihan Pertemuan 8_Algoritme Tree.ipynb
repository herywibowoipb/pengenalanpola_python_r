{
 "cells": [
  {
   "cell_type": "code",
   "execution_count": 2,
   "id": "representative-asthma",
   "metadata": {},
   "outputs": [
    {
     "name": "stdout",
     "output_type": "stream",
     "text": [
      "Accuracy: 0.671875\n"
     ]
    }
   ],
   "source": [
    "#Decision Tree\n",
    "\n",
    "#Import Library\n",
    "import pandas as pd\n",
    "from sklearn.tree import DecisionTreeClassifier\n",
    "from sklearn.model_selection import train_test_split\n",
    "from sklearn import metrics\n",
    "#Melakukan pembacaaan dataset\n",
    "col_names = ['pregnant', 'glucose', 'bp', 'skin', 'insulin', 'bmi', 'pedigree',\n",
    "'age', 'label']\n",
    "# load dataset\n",
    "pima = pd.read_csv(\"pima-indians-diabetes.csv\", header=None, names=col_names)\n",
    "#print(pima)\n",
    "#split dataset in features and target variable\n",
    "feature_cols = ['pregnant', 'insulin', 'bmi', 'age','glucose','bp','pedigree']\n",
    "x = pima[feature_cols] # Features\n",
    "y = pima.label # Target variable\n",
    "# Split dataset into training set and test set\n",
    "X_train, X_test, y_train, y_test = train_test_split(x, y, test_size=0.25,\n",
    "random_state=3)\n",
    " # Membuat objek DT\n",
    " # Dapat dioptimalkan dengan menghitung Entropy\n",
    "clf = DecisionTreeClassifier()\n",
    "clf = DecisionTreeClassifier(criterion=\"entropy\", max_depth=3)\n",
    "# Melakukan Pelatihan DT\n",
    "clf = clf.fit(X_train,y_train)\n",
    "# Memprediksi\n",
    "y_pred = clf.predict(X_test)\n",
    "# Menghitung akurasi model\n",
    "print(\"Accuracy:\",metrics.accuracy_score(y_test, y_pred))"
   ]
  },
  {
   "cell_type": "code",
   "execution_count": 3,
   "id": "confident-briefs",
   "metadata": {},
   "outputs": [
    {
     "name": "stdout",
     "output_type": "stream",
     "text": [
      "[35.51       24.26666667 10.38571429 22.35238095 14.02142857 23.71666667\n",
      " 19.83421053 15.43571429 20.575      27.45       15.43571429 22.35238095\n",
      " 22.35238095 18.31666667 17.71111111 23.71666667  8.49285714 16.81428571\n",
      " 19.83421053 10.38571429 37.73333333 23.71666667 19.83421053 16.81428571\n",
      " 27.45       19.77142857 19.83421053 22.46428571 31.52857143 22.83333333\n",
      " 20.575      19.33333333 18.31666667 14.02142857 23.71666667 17.13333333\n",
      " 20.50714286 22.35238095 10.38571429  8.49285714  8.49285714 18.31666667\n",
      " 49.78571429 31.76       19.83421053 25.4375     25.4375     42.3\n",
      " 14.02142857 25.4375     19.83421053 35.51       23.71666667 23.71666667\n",
      " 50.         31.76       10.38571429 31.52857143 25.4375     22.35238095\n",
      " 35.51       15.43571429 22.         37.73333333 10.38571429 22.46428571\n",
      " 35.51       20.50714286 47.36666667 47.36666667 10.95       23.71666667\n",
      " 14.02142857 19.18333333 23.71666667 10.38571429 47.36666667 23.71666667\n",
      " 15.08181818 15.08181818 47.36666667 49.78571429 23.71666667 15.08181818\n",
      " 22.46428571 13.66666667 25.4375     31.52857143 19.77142857 22.46428571\n",
      " 19.33333333 14.26666667 22.46428571 19.18333333 15.08181818 42.3\n",
      " 15.43571429 24.26666667 25.4375     25.4375     19.83421053 19.83421053\n",
      " 19.18333333 22.         15.43571429 47.36666667 10.38571429 10.38571429\n",
      " 31.06666667 19.83421053  8.49285714 25.4375     19.83421053 25.4375\n",
      " 15.08181818 22.46428571 37.73333333 25.4375     15.08181818 47.36666667\n",
      " 22.35238095 14.02142857 18.31666667 35.51       19.83421053 35.2\n",
      " 23.71666667 22.46428571 19.83421053 22.35238095 22.83333333 19.83421053\n",
      " 16.325      10.38571429 19.83421053 13.66666667 16.81428571 35.51\n",
      " 17.13333333 22.         19.83421053 10.38571429 24.26666667 19.83421053\n",
      " 31.52857143 27.45       22.46428571 24.26666667 23.71666667  8.49285714\n",
      " 19.83421053 19.77142857]\n",
      "R-Squared =  0.8585266101758929\n"
     ]
    }
   ],
   "source": [
    "# CART\n",
    "\n",
    "# Load Dataset\n",
    "import numpy as np\n",
    "import matplotlib.pyplot as plt\n",
    "import pandas as pd\n",
    "from sklearn.datasets import load_boston\n",
    "boston_dataset = load_boston()\n",
    "boston = pd.DataFrame(boston_dataset.data, columns=boston_dataset.feature_names)\n",
    "boston['MEDV'] = boston_dataset.target\n",
    "names = boston_dataset.feature_names\n",
    "#Library CART pada python\n",
    "from sklearn.tree import DecisionTreeRegressor\n",
    "array = boston.values\n",
    "X = array[:,0:13]\n",
    "Y = array[:,13]\n",
    "#print(X)\n",
    "#print(Y)\n",
    "from sklearn.model_selection import train_test_split\n",
    "X_train, X_test, Y_train, Y_test = train_test_split(X, Y, test_size=0.3,\n",
    "random_state=1234)\n",
    "#model = DecisionTreeRegressor(max_leaf_nodes = 20)\n",
    "model = DecisionTreeRegressor(criterion='mse', max_depth=None, max_features=None,\n",
    " max_leaf_nodes=50, min_impurity_decrease=0.0,\n",
    " min_impurity_split=None, min_samples_leaf=1,\n",
    " min_samples_split=2, min_weight_fraction_leaf=0.0,\n",
    " random_state=None, splitter='best')\n",
    "#Evaluasi\n",
    "rt = model.fit(X_train, Y_train)\n",
    "rt\n",
    "import random as rnd\n",
    "rnd.seed(123458)\n",
    "X_new = X[rnd.randrange(X.shape[0])]\n",
    "X_new = X_new.reshape(1,13)\n",
    "#Prediksi Model\n",
    "YHat = model.predict(X_new)\n",
    "df = pd.DataFrame(X_new, columns = names)\n",
    "df[\"Predicted Price\"] = YHat\n",
    "df.head(1)\n",
    "from sklearn.metrics import r2_score\n",
    "YHat = model.predict(X_test)\n",
    "print(YHat)\n",
    "#Menghitung Rata-rata Kuadrat\n",
    "r2 = r2_score(Y_test, YHat)\n",
    "print(\"R-Squared = \", r2)"
   ]
  },
  {
   "cell_type": "code",
   "execution_count": 4,
   "id": "rapid-optics",
   "metadata": {},
   "outputs": [
    {
     "name": "stdout",
     "output_type": "stream",
     "text": [
      "Model test Score: 0.958,  Model training Score: 0.960\n"
     ]
    }
   ],
   "source": [
    "#Bagging\n",
    "\n",
    "#Impor Library\n",
    "import numpy as np\n",
    "from sklearn import datasets\n",
    "from sklearn.model_selection import train_test_split\n",
    "from sklearn.preprocessing import StandardScaler\n",
    "from sklearn.linear_model import LogisticRegression\n",
    "from sklearn.pipeline import make_pipeline\n",
    "from sklearn.ensemble import BaggingClassifier\n",
    "from sklearn.model_selection import GridSearchCV\n",
    "#Load cancer dataset\n",
    "bc = datasets.load_breast_cancer()\n",
    "X = bc.data\n",
    "y = bc.target\n",
    "#membagi dataset\n",
    "X_train, X_test, y_train, y_test = train_test_split(X, y, test_size=0.25,\n",
    "random_state=1, stratify=y)\n",
    "#Melakukan pipelining\n",
    "pipeline = make_pipeline(StandardScaler(),\n",
    " LogisticRegression(random_state=1))\n",
    "#Skema bagging\n",
    "bgclassifier = BaggingClassifier(base_estimator=pipeline, n_estimators=100,\n",
    " max_features=8,\n",
    " max_samples=80,\n",
    " random_state=1, n_jobs=5)\n",
    "bgclassifier.fit(X_train, y_train)\n",
    "print('Model test Score: %.3f, ' %bgclassifier.score(X_test, y_test),\n",
    " 'Model training Score: %.3f' %bgclassifier.score(X_train, y_train))"
   ]
  },
  {
   "cell_type": "code",
   "execution_count": null,
   "id": "classical-atmosphere",
   "metadata": {},
   "outputs": [],
   "source": []
  }
 ],
 "metadata": {
  "kernelspec": {
   "display_name": "Python 3",
   "language": "python",
   "name": "python3"
  },
  "language_info": {
   "codemirror_mode": {
    "name": "ipython",
    "version": 3
   },
   "file_extension": ".py",
   "mimetype": "text/x-python",
   "name": "python",
   "nbconvert_exporter": "python",
   "pygments_lexer": "ipython3",
   "version": "3.9.2"
  }
 },
 "nbformat": 4,
 "nbformat_minor": 5
}
