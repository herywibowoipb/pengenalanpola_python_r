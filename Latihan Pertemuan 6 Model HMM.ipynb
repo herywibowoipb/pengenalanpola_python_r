{
 "cells": [
  {
   "cell_type": "code",
   "execution_count": 7,
   "id": "catholic-pathology",
   "metadata": {},
   "outputs": [],
   "source": [
    "# Definisi Matrik Transisi (states) \n",
    "states = ('Rainy', 'Sunny') \n",
    "\n",
    "# definisi Matriks Observasi / Matrik emmisi \n",
    "observations = ('walk', 'shop', 'clean') \n",
    "\n",
    "# definisi Matriks Priority \n",
    "start_probability = {'Rainy': 0.6, 'Sunny': 0.4} \n",
    "\n",
    "transition_probability = { \n",
    "    'Rainy' : {'Rainy': 0.7, 'Sunny': 0.3}, \n",
    "    'Sunny' : {'Rainy': 0.4, 'Sunny': 0.6}, \n",
    "} \n",
    "\n",
    "emission_probability = { \n",
    "    'Rainy' : {'walk': 0.1, 'shop': 0.4, 'clean': 0.5}, \n",
    "    'Sunny' : {'walk': 0.6, 'shop': 0.3, 'clean': 0.1}, \n",
    "}"
   ]
  },
  {
   "cell_type": "code",
   "execution_count": 8,
   "id": "supreme-louisville",
   "metadata": {},
   "outputs": [],
   "source": [
    "# Library untuk HMM \n",
    "# Cara install pip install hmmlearn==0.2.2\n",
    "\n",
    "from hmmlearn import hmm \n",
    "import numpy as np \n",
    "\n",
    "model = hmm.MultinomialHMM(n_components=2) \n",
    "model.startprob_ = np.array([0.6, 0.4]) \n",
    "model.transmat_ = np.array([[0.7, 0.3], \n",
    "                            [0.4, 0.6]]) \n",
    "model.emissionprob_ = np.array([[0.1, 0.4, 0.5], \n",
    "                                [0.6, 0.3, 0.1]])"
   ]
  },
  {
   "cell_type": "code",
   "execution_count": 9,
   "id": "fancy-knight",
   "metadata": {},
   "outputs": [
    {
     "data": {
      "text/plain": [
       "0.30000000000000004"
      ]
     },
     "execution_count": 9,
     "metadata": {},
     "output_type": "execute_result"
    }
   ],
   "source": [
    "# Given a known model what is the likelihood of sequence O happening?\n",
    "# The probability of the first observation being “Walk” equals to the multiplication\n",
    "# of the initial state distribution and emission probability matrix.\n",
    "# 0.6 x 0.1 + 0.4 x 0.6 = 0.30 (30%).\n",
    "# The log likelihood is provided from calling .score.\n",
    "# catatan {'walk', 'shop','clean' }\n",
    "# Kasus untuk initial state # \n",
    "# contoh untuk observasi 'walk' \n",
    "# peluang dari model jika observasi adalah 'walk' \n",
    "# 0.6 x 0.1 + 0.4 x 0.6 = 0.30 (30%) \n",
    "\n",
    "import math \n",
    "math.exp(model.score(np.array([[0]]))) \n",
    "\n"
   ]
  },
  {
   "cell_type": "code",
   "execution_count": 12,
   "id": "realistic-brass",
   "metadata": {},
   "outputs": [
    {
     "data": {
      "text/plain": [
       "0.36000000000000004"
      ]
     },
     "execution_count": 12,
     "metadata": {},
     "output_type": "execute_result"
    }
   ],
   "source": [
    "# contoh untuk observasi 'shop' \n",
    "# peluang dari model jika observasi adalah 'shop' \n",
    "# 0.6 x 0.4 + 0.4 x 0.3 = (36%) \n",
    "\n",
    "math.exp(model.score(np.array([[1]])))"
   ]
  },
  {
   "cell_type": "code",
   "execution_count": 6,
   "id": "juvenile-september",
   "metadata": {},
   "outputs": [
    {
     "data": {
      "text/plain": [
       "0.3400000000000001"
      ]
     },
     "execution_count": 6,
     "metadata": {},
     "output_type": "execute_result"
    }
   ],
   "source": [
    "# contoh untuk observasi 'clean'\n",
    "# peluang dari model jika observasi adalah 'clean'\n",
    "# 0.6 x 0.5 + 0.4 x 0.1 = (34%)\n",
    "\n",
    "math.exp(model.score(np.array([[2]])))"
   ]
  },
  {
   "cell_type": "code",
   "execution_count": 7,
   "id": "received-savings",
   "metadata": {},
   "outputs": [
    {
     "data": {
      "text/plain": [
       "0.1244"
      ]
     },
     "execution_count": 7,
     "metadata": {},
     "output_type": "execute_result"
    }
   ],
   "source": [
    "# contoh untuk observasi {'clean', 'clean'}\n",
    "# peluang dari model jika observasi {'clean', 'clean'} adalah\n",
    "\n",
    "math.exp(model.score(np.array([[2,2]])))"
   ]
  },
  {
   "cell_type": "code",
   "execution_count": 8,
   "id": "short-amount",
   "metadata": {},
   "outputs": [
    {
     "name": "stdout",
     "output_type": "stream",
     "text": [
      "0.015120000000000003\n",
      "[0 0 1]\n"
     ]
    }
   ],
   "source": [
    "#==== HMM decode dengan algoritma viterbi di dalamnya ======#\n",
    "logprob, seq = model.decode(np.array([[1,2,0]]).transpose())\n",
    "print(math.exp(logprob))\n",
    "print(seq)"
   ]
  },
  {
   "cell_type": "code",
   "execution_count": 9,
   "id": "superb-investing",
   "metadata": {},
   "outputs": [
    {
     "name": "stdout",
     "output_type": "stream",
     "text": [
      "0.03674999999999999\n",
      "[0 0 0]\n"
     ]
    }
   ],
   "source": [
    "logprob, seq = model.decode(np.array([[2,2,2]]).transpose())\n",
    "print(math.exp(logprob))\n",
    "print(seq)"
   ]
  },
  {
   "cell_type": "code",
   "execution_count": 13,
   "id": "concrete-sessions",
   "metadata": {},
   "outputs": [
    {
     "data": {
      "text/plain": [
       "0.004082395400000001"
      ]
     },
     "execution_count": 13,
     "metadata": {},
     "output_type": "execute_result"
    }
   ],
   "source": [
    "# peluang dari model jika observasi {'clean', 'clean',’walk’, ‘walk’,‘shop’}\n",
    "\n",
    "math.exp(model.score(np.array([[2,2,0,0,1]])))"
   ]
  },
  {
   "cell_type": "code",
   "execution_count": 10,
   "id": "regular-trash",
   "metadata": {},
   "outputs": [
    {
     "name": "stdout",
     "output_type": "stream",
     "text": [
      "0.001224720000000001\n",
      "[0 0 1 1 1]\n"
     ]
    }
   ],
   "source": [
    "#state yang paling baik untuk untuk observasi {'clean', 'clean',’walk’, ‘walk’, ‘shop’} dari model yang ada\n",
    "\n",
    "logprob, seq = model.decode(np.array([[2,2,0,0,1]]).transpose())\n",
    "print(math.exp(logprob))\n",
    "print(seq)"
   ]
  },
  {
   "cell_type": "code",
   "execution_count": null,
   "id": "close-scale",
   "metadata": {},
   "outputs": [],
   "source": []
  }
 ],
 "metadata": {
  "kernelspec": {
   "display_name": "Python 3",
   "language": "python",
   "name": "python3"
  },
  "language_info": {
   "codemirror_mode": {
    "name": "ipython",
    "version": 3
   },
   "file_extension": ".py",
   "mimetype": "text/x-python",
   "name": "python",
   "nbconvert_exporter": "python",
   "pygments_lexer": "ipython3",
   "version": "3.9.2"
  }
 },
 "nbformat": 4,
 "nbformat_minor": 5
}
